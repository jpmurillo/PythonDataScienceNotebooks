{
 "cells": [
  {
   "cell_type": "markdown",
   "metadata": {},
   "source": [
    "## Feature Selection Techniches\n",
    "The idea of this notebook is to share multiple techniques used to select features when building a classification model. In this case, we're dealing with 30+ features. It would be ideal to bring down the number of features going into the final model.  \n",
    "The techniques we'll  review are:\n",
    "* Hypothesis testing: chi squared test of association\n",
    "* Feature importance of random forest classification\n",
    "* Coefficients from correlation matrix "
   ]
  },
  {
   "cell_type": "code",
   "execution_count": 1,
   "metadata": {},
   "outputs": [],
   "source": [
    "import pandas as pd\n",
    "import matplotlib.pyplot as plt\n",
    "import seaborn as sns\n",
    "import numpy as np\n",
    "import zipfile\n",
    "%matplotlib inline"
   ]
  },
  {
   "cell_type": "markdown",
   "metadata": {},
   "source": [
    "##### Straightforward Data Ingestion and Preprocessing"
   ]
  },
  {
   "cell_type": "code",
   "execution_count": 2,
   "metadata": {},
   "outputs": [],
   "source": [
    "zf = zipfile.ZipFile('WA_Fn-UseC_-Telco-Customer-Churn.zip') \n",
    "df = pd.read_csv(zf.open('WA_Fn-UseC_-Telco-Customer-Churn.csv'))\n",
    "\n",
    "df.loc[df['tenure']==0, 'TotalCharges'] = 0\n",
    "df['TotalCharges'] = df['TotalCharges'].apply(lambda x: float(x))\n",
    "df['MonthlyCharges'] = df['MonthlyCharges'].apply(lambda x: float(x))"
   ]
  },
  {
   "cell_type": "code",
   "execution_count": 3,
   "metadata": {},
   "outputs": [],
   "source": [
    "df_dummy = pd.get_dummies(df, columns=['gender', 'Partner', 'Dependents', 'PhoneService','MultipleLines', 'InternetService', 'OnlineSecurity',\n",
    "                          'OnlineBackup','DeviceProtection','TechSupport','StreamingTV','StreamingMovies','Contract',\n",
    "                           'PaperlessBilling','PaymentMethod', 'Churn'], drop_first=True)"
   ]
  },
  {
   "cell_type": "code",
   "execution_count": 4,
   "metadata": {},
   "outputs": [],
   "source": [
    "df_dummy.drop(labels=['customerID'], axis=1 , inplace=True)"
   ]
  },
  {
   "cell_type": "code",
   "execution_count": 5,
   "metadata": {},
   "outputs": [
    {
     "data": {
      "text/plain": [
       "(7043, 31)"
      ]
     },
     "execution_count": 5,
     "metadata": {},
     "output_type": "execute_result"
    }
   ],
   "source": [
    "df_dummy.shape"
   ]
  },
  {
   "cell_type": "markdown",
   "metadata": {},
   "source": [
    "### Feature Selection using Chi Squared Test"
   ]
  },
  {
   "cell_type": "code",
   "execution_count": 6,
   "metadata": {},
   "outputs": [],
   "source": [
    "from sklearn.feature_selection import SelectKBest\n",
    "from sklearn.feature_selection import chi2\n",
    "X = df_dummy.iloc[:,0:30]\n",
    "y = df_dummy.iloc[:,-1]"
   ]
  },
  {
   "cell_type": "code",
   "execution_count": 7,
   "metadata": {},
   "outputs": [],
   "source": [
    "#applies SelectKBest class to extract top 15 best features\n",
    "bestfeatures = SelectKBest(score_func=chi2, k=15)\n",
    "fit = bestfeatures.fit(X,y)\n",
    "bf_scores = pd.DataFrame(fit.scores_)\n",
    "bf_columns = pd.DataFrame(X.columns)\n",
    "\n",
    "#helps visualize the top constributing features\n",
    "featureScores = pd.concat([bf_columns,bf_scores],axis=1)\n",
    "featureScores.columns = ['Specs','Score']"
   ]
  },
  {
   "cell_type": "code",
   "execution_count": 8,
   "metadata": {},
   "outputs": [
    {
     "data": {
      "text/html": [
       "<div>\n",
       "<style scoped>\n",
       "    .dataframe tbody tr th:only-of-type {\n",
       "        vertical-align: middle;\n",
       "    }\n",
       "\n",
       "    .dataframe tbody tr th {\n",
       "        vertical-align: top;\n",
       "    }\n",
       "\n",
       "    .dataframe thead th {\n",
       "        text-align: right;\n",
       "    }\n",
       "</style>\n",
       "<table border=\"1\" class=\"dataframe\">\n",
       "  <thead>\n",
       "    <tr style=\"text-align: right;\">\n",
       "      <th></th>\n",
       "      <th>Specs</th>\n",
       "      <th>Score</th>\n",
       "    </tr>\n",
       "  </thead>\n",
       "  <tbody>\n",
       "    <tr>\n",
       "      <th>3</th>\n",
       "      <td>TotalCharges</td>\n",
       "      <td>624292.003004</td>\n",
       "    </tr>\n",
       "    <tr>\n",
       "      <th>1</th>\n",
       "      <td>tenure</td>\n",
       "      <td>16278.923685</td>\n",
       "    </tr>\n",
       "    <tr>\n",
       "      <th>2</th>\n",
       "      <td>MonthlyCharges</td>\n",
       "      <td>3680.787699</td>\n",
       "    </tr>\n",
       "    <tr>\n",
       "      <th>25</th>\n",
       "      <td>Contract_Two year</td>\n",
       "      <td>488.578090</td>\n",
       "    </tr>\n",
       "    <tr>\n",
       "      <th>28</th>\n",
       "      <td>PaymentMethod_Electronic check</td>\n",
       "      <td>426.422767</td>\n",
       "    </tr>\n",
       "    <tr>\n",
       "      <th>10</th>\n",
       "      <td>InternetService_Fiber optic</td>\n",
       "      <td>374.476216</td>\n",
       "    </tr>\n",
       "    <tr>\n",
       "      <th>11</th>\n",
       "      <td>InternetService_No</td>\n",
       "      <td>286.520193</td>\n",
       "    </tr>\n",
       "    <tr>\n",
       "      <th>18</th>\n",
       "      <td>TechSupport_No internet service</td>\n",
       "      <td>286.520193</td>\n",
       "    </tr>\n",
       "    <tr>\n",
       "      <th>16</th>\n",
       "      <td>DeviceProtection_No internet service</td>\n",
       "      <td>286.520193</td>\n",
       "    </tr>\n",
       "    <tr>\n",
       "      <th>14</th>\n",
       "      <td>OnlineBackup_No internet service</td>\n",
       "      <td>286.520193</td>\n",
       "    </tr>\n",
       "    <tr>\n",
       "      <th>12</th>\n",
       "      <td>OnlineSecurity_No internet service</td>\n",
       "      <td>286.520193</td>\n",
       "    </tr>\n",
       "    <tr>\n",
       "      <th>20</th>\n",
       "      <td>StreamingTV_No internet service</td>\n",
       "      <td>286.520193</td>\n",
       "    </tr>\n",
       "    <tr>\n",
       "      <th>22</th>\n",
       "      <td>StreamingMovies_No internet service</td>\n",
       "      <td>286.520193</td>\n",
       "    </tr>\n",
       "    <tr>\n",
       "      <th>24</th>\n",
       "      <td>Contract_One year</td>\n",
       "      <td>176.123171</td>\n",
       "    </tr>\n",
       "    <tr>\n",
       "      <th>13</th>\n",
       "      <td>OnlineSecurity_Yes</td>\n",
       "      <td>147.295858</td>\n",
       "    </tr>\n",
       "  </tbody>\n",
       "</table>\n",
       "</div>"
      ],
      "text/plain": [
       "                                   Specs          Score\n",
       "3                           TotalCharges  624292.003004\n",
       "1                                 tenure   16278.923685\n",
       "2                         MonthlyCharges    3680.787699\n",
       "25                     Contract_Two year     488.578090\n",
       "28        PaymentMethod_Electronic check     426.422767\n",
       "10           InternetService_Fiber optic     374.476216\n",
       "11                    InternetService_No     286.520193\n",
       "18       TechSupport_No internet service     286.520193\n",
       "16  DeviceProtection_No internet service     286.520193\n",
       "14      OnlineBackup_No internet service     286.520193\n",
       "12    OnlineSecurity_No internet service     286.520193\n",
       "20       StreamingTV_No internet service     286.520193\n",
       "22   StreamingMovies_No internet service     286.520193\n",
       "24                     Contract_One year     176.123171\n",
       "13                    OnlineSecurity_Yes     147.295858"
      ]
     },
     "execution_count": 8,
     "metadata": {},
     "output_type": "execute_result"
    }
   ],
   "source": [
    "featureScores.sort_values('Score', ascending=False).head(15)"
   ]
  },
  {
   "cell_type": "markdown",
   "metadata": {},
   "source": [
    "### Feature Selection by Feature Importance in Random Forest Model"
   ]
  },
  {
   "cell_type": "code",
   "execution_count": 9,
   "metadata": {},
   "outputs": [
    {
     "data": {
      "text/plain": [
       "tenure                                  0.213512\n",
       "InternetService_Fiber optic             0.135466\n",
       "Contract_Two year                       0.132184\n",
       "PaymentMethod_Electronic check          0.099044\n",
       "TotalCharges                            0.086579\n",
       "OnlineSecurity_No internet service      0.042248\n",
       "StreamingMovies_No internet service     0.040365\n",
       "MonthlyCharges                          0.038775\n",
       "InternetService_No                      0.034067\n",
       "TechSupport_No internet service         0.032606\n",
       "OnlineBackup_No internet service        0.028316\n",
       "OnlineSecurity_Yes                      0.027269\n",
       "StreamingTV_No internet service         0.022366\n",
       "TechSupport_Yes                         0.019083\n",
       "DeviceProtection_No internet service    0.016870\n",
       "dtype: float64"
      ]
     },
     "execution_count": 9,
     "metadata": {},
     "output_type": "execute_result"
    }
   ],
   "source": [
    "X = df_dummy.iloc[:,0:30]\n",
    "y = df_dummy.iloc[:,-1]\n",
    "\n",
    "# Fit RF model using all features\n",
    "from sklearn.ensemble import RandomForestClassifier\n",
    "clf = RandomForestClassifier(n_estimators=100, max_depth=2,\n",
    "                             random_state=0)\n",
    "clf.fit(X, y)  \n",
    "\n",
    "# Display top 15 by feature importance\n",
    "feat_importances = pd.Series(clf.feature_importances_, index=X.columns)\n",
    "feat_importances.sort_values(ascending=False).head(15)"
   ]
  },
  {
   "cell_type": "markdown",
   "metadata": {},
   "source": [
    "### Feature Selection Using correlation coefficient with Target Variable"
   ]
  },
  {
   "cell_type": "code",
   "execution_count": 10,
   "metadata": {},
   "outputs": [],
   "source": [
    "X = df_dummy.iloc[:,0:30]\n",
    "y = df_dummy.iloc[:,-1]\n",
    "\n",
    "#get correlations of each features in dataset\n",
    "corrmat = df_dummy.corr()"
   ]
  },
  {
   "cell_type": "code",
   "execution_count": 19,
   "metadata": {},
   "outputs": [
    {
     "data": {
      "text/html": [
       "<div>\n",
       "<style scoped>\n",
       "    .dataframe tbody tr th:only-of-type {\n",
       "        vertical-align: middle;\n",
       "    }\n",
       "\n",
       "    .dataframe tbody tr th {\n",
       "        vertical-align: top;\n",
       "    }\n",
       "\n",
       "    .dataframe thead th {\n",
       "        text-align: right;\n",
       "    }\n",
       "</style>\n",
       "<table border=\"1\" class=\"dataframe\">\n",
       "  <thead>\n",
       "    <tr style=\"text-align: right;\">\n",
       "      <th></th>\n",
       "      <th>corr_coef_Churn</th>\n",
       "      <th>abs_corr_coef_Churn</th>\n",
       "    </tr>\n",
       "  </thead>\n",
       "  <tbody>\n",
       "    <tr>\n",
       "      <th>tenure</th>\n",
       "      <td>-0.352229</td>\n",
       "      <td>0.352229</td>\n",
       "    </tr>\n",
       "    <tr>\n",
       "      <th>InternetService_Fiber optic</th>\n",
       "      <td>0.308020</td>\n",
       "      <td>0.308020</td>\n",
       "    </tr>\n",
       "    <tr>\n",
       "      <th>Contract_Two year</th>\n",
       "      <td>-0.302253</td>\n",
       "      <td>0.302253</td>\n",
       "    </tr>\n",
       "    <tr>\n",
       "      <th>PaymentMethod_Electronic check</th>\n",
       "      <td>0.301919</td>\n",
       "      <td>0.301919</td>\n",
       "    </tr>\n",
       "    <tr>\n",
       "      <th>StreamingTV_No internet service</th>\n",
       "      <td>-0.227890</td>\n",
       "      <td>0.227890</td>\n",
       "    </tr>\n",
       "    <tr>\n",
       "      <th>DeviceProtection_No internet service</th>\n",
       "      <td>-0.227890</td>\n",
       "      <td>0.227890</td>\n",
       "    </tr>\n",
       "    <tr>\n",
       "      <th>OnlineBackup_No internet service</th>\n",
       "      <td>-0.227890</td>\n",
       "      <td>0.227890</td>\n",
       "    </tr>\n",
       "    <tr>\n",
       "      <th>OnlineSecurity_No internet service</th>\n",
       "      <td>-0.227890</td>\n",
       "      <td>0.227890</td>\n",
       "    </tr>\n",
       "    <tr>\n",
       "      <th>InternetService_No</th>\n",
       "      <td>-0.227890</td>\n",
       "      <td>0.227890</td>\n",
       "    </tr>\n",
       "    <tr>\n",
       "      <th>StreamingMovies_No internet service</th>\n",
       "      <td>-0.227890</td>\n",
       "      <td>0.227890</td>\n",
       "    </tr>\n",
       "    <tr>\n",
       "      <th>TechSupport_No internet service</th>\n",
       "      <td>-0.227890</td>\n",
       "      <td>0.227890</td>\n",
       "    </tr>\n",
       "    <tr>\n",
       "      <th>TotalCharges</th>\n",
       "      <td>-0.198324</td>\n",
       "      <td>0.198324</td>\n",
       "    </tr>\n",
       "    <tr>\n",
       "      <th>MonthlyCharges</th>\n",
       "      <td>0.193356</td>\n",
       "      <td>0.193356</td>\n",
       "    </tr>\n",
       "    <tr>\n",
       "      <th>PaperlessBilling_Yes</th>\n",
       "      <td>0.191825</td>\n",
       "      <td>0.191825</td>\n",
       "    </tr>\n",
       "    <tr>\n",
       "      <th>Contract_One year</th>\n",
       "      <td>-0.177820</td>\n",
       "      <td>0.177820</td>\n",
       "    </tr>\n",
       "  </tbody>\n",
       "</table>\n",
       "</div>"
      ],
      "text/plain": [
       "                                      corr_coef_Churn  abs_corr_coef_Churn\n",
       "tenure                                      -0.352229             0.352229\n",
       "InternetService_Fiber optic                  0.308020             0.308020\n",
       "Contract_Two year                           -0.302253             0.302253\n",
       "PaymentMethod_Electronic check               0.301919             0.301919\n",
       "StreamingTV_No internet service             -0.227890             0.227890\n",
       "DeviceProtection_No internet service        -0.227890             0.227890\n",
       "OnlineBackup_No internet service            -0.227890             0.227890\n",
       "OnlineSecurity_No internet service          -0.227890             0.227890\n",
       "InternetService_No                          -0.227890             0.227890\n",
       "StreamingMovies_No internet service         -0.227890             0.227890\n",
       "TechSupport_No internet service             -0.227890             0.227890\n",
       "TotalCharges                                -0.198324             0.198324\n",
       "MonthlyCharges                               0.193356             0.193356\n",
       "PaperlessBilling_Yes                         0.191825             0.191825\n",
       "Contract_One year                           -0.177820             0.177820"
      ]
     },
     "execution_count": 19,
     "metadata": {},
     "output_type": "execute_result"
    }
   ],
   "source": [
    "corrmat['abs_Churn_Yes'] = corrmat['Churn_Yes'].apply(lambda x: abs(x))\n",
    "tmp = corrmat[['Churn_Yes', 'abs_Churn_Yes']].sort_values(by='abs_Churn_Yes', ascending=False).head(16)\n",
    "tmp.columns = ['corr_coef_Churn', 'abs_corr_coef_Churn']\n",
    "tmp.iloc[1:,:]"
   ]
  }
 ],
 "metadata": {
  "kernelspec": {
   "display_name": "Python 3",
   "language": "python",
   "name": "python3"
  },
  "language_info": {
   "codemirror_mode": {
    "name": "ipython",
    "version": 3
   },
   "file_extension": ".py",
   "mimetype": "text/x-python",
   "name": "python",
   "nbconvert_exporter": "python",
   "pygments_lexer": "ipython3",
   "version": "3.6.9"
  }
 },
 "nbformat": 4,
 "nbformat_minor": 2
}
